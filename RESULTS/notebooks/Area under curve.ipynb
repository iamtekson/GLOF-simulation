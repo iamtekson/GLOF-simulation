{
 "cells": [
  {
   "cell_type": "code",
   "execution_count": 1,
   "id": "5abb76df",
   "metadata": {},
   "outputs": [],
   "source": [
    "import os\n",
    "import sys\n",
    "import glob\n",
    "import numpy as np\n",
    "import pandas as pd\n",
    "import matplotlib.pyplot as plt\n",
    "import seaborn as sns\n",
    "import geopandas as gpd\n",
    "import rasterio as rio\n",
    "from sklearn.metrics import auc\n",
    "\n",
    "%matplotlib inline"
   ]
  },
  {
   "cell_type": "code",
   "execution_count": 2,
   "id": "7d64cdb4",
   "metadata": {},
   "outputs": [
    {
     "name": "stdout",
     "output_type": "stream",
     "text": [
      "11\n",
      "../03. results\\11_results\\11_files\\11_hydinfo1.txt\n",
      "../03. results\\12_results\\12_files\\12_hydinfo1.txt\n",
      "../03. results\\13_results\\13_files\\13_hydinfo1.txt\n",
      "../03. results\\14_results\\14_files\\14_hydinfo1.txt\n",
      "../03. results\\21_results\\21_files\\21_hydinfo1.txt\n",
      "../03. results\\22_results\\22_files\\22_hydinfo1.txt\n",
      "../03. results\\23_results\\23_files\\23_hydinfo1.txt\n",
      "../03. results\\31_results\\31_files\\31_hydinfo1.txt\n",
      "../03. results\\32_results\\32_files\\32_hydinfo1.txt\n",
      "../03. results\\33_results\\33_files\\33_hydinfo1.txt\n",
      "../03. results\\41_results\\41_files\\41_hydinfo1.txt\n"
     ]
    }
   ],
   "source": [
    "HYDRO1 = glob.glob(r'../03. results/**/*hydinfo1.txt', recursive=True)\n",
    "HYDRO2 = glob.glob(r'../03. results/**/*hydinfo2.txt', recursive=True)\n",
    "HYDRO3 = glob.glob(r'../03. results/**/*hydinfo3.txt', recursive=True)\n",
    "HYDRO3 = glob.glob(r'../03. results/**/*hydinfo4.txt', recursive=True)\n",
    "\n",
    "print(len(HYDRO1))\n",
    "\n",
    "for i in HYDRO1:\n",
    "    print(i)"
   ]
  },
  {
   "cell_type": "code",
   "execution_count": 11,
   "id": "094f0408",
   "metadata": {},
   "outputs": [],
   "source": [
    "lake_vol = 1422031\n",
    "fraction = []\n",
    "vol_water = []\n",
    "for i, hydro in enumerate(HYDRO1):\n",
    "    df = pd.read_csv(hydro, sep='\\t')\n",
    "    xx = df['T'].to_numpy()\n",
    "    yy = df['Q3'].abs().to_numpy()\n",
    "    vl = auc(xx,yy)\n",
    "    vol_water.append(vl)\n",
    "    fraction.append(vl/lake_vol * 100)"
   ]
  },
  {
   "cell_type": "code",
   "execution_count": 10,
   "id": "6cf55aa7",
   "metadata": {},
   "outputs": [
    {
     "name": "stdout",
     "output_type": "stream",
     "text": [
      "[89104.85, 191876.3425, 612352.0705, 814915.1095, 27302.028500000004, 177525.873, 288611.37299999996, 10496.911500000002, 46522.4395, 92880.622, 15910.2035] \n",
      " [6.266027252570444, 13.493119524117267, 43.061794749903484, 57.30642366446301, 1.9199320197660952, 12.483966453614583, 20.295715986500994, 0.7381633382113331, 3.2715488973165847, 6.531546921269649, 1.1188366146729571]\n"
     ]
    }
   ],
   "source": [
    "print(vol_water, '\\n', fraction)"
   ]
  },
  {
   "cell_type": "code",
   "execution_count": null,
   "id": "2f0770e6",
   "metadata": {},
   "outputs": [],
   "source": []
  }
 ],
 "metadata": {
  "kernelspec": {
   "display_name": "Python 3 (ipykernel)",
   "language": "python",
   "name": "python3"
  },
  "language_info": {
   "codemirror_mode": {
    "name": "ipython",
    "version": 3
   },
   "file_extension": ".py",
   "mimetype": "text/x-python",
   "name": "python",
   "nbconvert_exporter": "python",
   "pygments_lexer": "ipython3",
   "version": "3.9.13"
  }
 },
 "nbformat": 4,
 "nbformat_minor": 5
}
